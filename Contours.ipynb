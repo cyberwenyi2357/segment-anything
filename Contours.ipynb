{
  "nbformat": 4,
  "nbformat_minor": 0,
  "metadata": {
    "colab": {
      "provenance": [],
      "include_colab_link": true
    },
    "kernelspec": {
      "name": "python3",
      "display_name": "Python 3"
    },
    "language_info": {
      "name": "python"
    }
  },
  "cells": [
    {
      "cell_type": "markdown",
      "metadata": {
        "id": "view-in-github",
        "colab_type": "text"
      },
      "source": [
        "<a href=\"https://colab.research.google.com/github/cyberwenyi2357/segment-anything/blob/main/Contours.ipynb\" target=\"_parent\"><img src=\"https://colab.research.google.com/assets/colab-badge.svg\" alt=\"Open In Colab\"/></a>"
      ]
    },
    {
      "cell_type": "code",
      "source": [
        "import cv2\n",
        "import numpy as np\n",
        "\n",
        "# Load the image\n",
        "image_path = 'animationpng.png'\n",
        "image = cv2.imread(image_path)\n",
        "\n",
        "# Define the point where you want to start tracing the contour\n",
        "start_point = (157, 111)  # Change this to the desired coordinates\n",
        "# 61, 109\n",
        "# 44, 164\n",
        "# Get the color at the specified point\n",
        "b, g, r = image[start_point[1], start_point[0]]\n",
        "\n",
        "# Create a mask based on color detection for the selected color\n",
        "lower_bound = np.array([b, g, r])\n",
        "upper_bound = np.array([b, g, r])\n",
        "mask = cv2.inRange(image, lower_bound, upper_bound)\n",
        "\n",
        "# Find contours in the mask\n",
        "contours, _ = cv2.findContours(mask, cv2.RETR_EXTERNAL, cv2.CHAIN_APPROX_SIMPLE)\n",
        "cv2.circle(image, start_point, 1, (0, 0, 255), -1)\n",
        "\n",
        "# Draw the contour on a copy of the original image\n",
        "contour_image = image.copy()\n",
        "cv2.drawContours(contour_image, contours, -1, (0, 255, 0), 2)\n",
        "\n",
        "points = []\n",
        "\n",
        "# Add points along the contours\n",
        "for contour in contours:\n",
        "    for point in contour:\n",
        "        x, y = point[0]\n",
        "        points.append([x,y])\n",
        "        cv2.circle(contour_image, (x, y), 2, (255, 0, 0), -1)\n",
        "\n",
        "cv2_imshow(contour_image)\n",
        "print(points)"
      ],
      "metadata": {
        "colab": {
          "base_uri": "https://localhost:8080/",
          "height": 259
        },
        "id": "6XBBQhaS72Wa",
        "outputId": "165fef4f-0c73-4882-bb72-fd93f6f1be4d"
      },
      "execution_count": 4,
      "outputs": [
        {
          "output_type": "error",
          "ename": "TypeError",
          "evalue": "ignored",
          "traceback": [
            "\u001b[0;31m---------------------------------------------------------------------------\u001b[0m",
            "\u001b[0;31mTypeError\u001b[0m                                 Traceback (most recent call last)",
            "\u001b[0;32m<ipython-input-4-35f950c8edf2>\u001b[0m in \u001b[0;36m<cell line: 13>\u001b[0;34m()\u001b[0m\n\u001b[1;32m     11\u001b[0m \u001b[0;31m# 44, 164\u001b[0m\u001b[0;34m\u001b[0m\u001b[0;34m\u001b[0m\u001b[0m\n\u001b[1;32m     12\u001b[0m \u001b[0;31m# Get the color at the specified point\u001b[0m\u001b[0;34m\u001b[0m\u001b[0;34m\u001b[0m\u001b[0m\n\u001b[0;32m---> 13\u001b[0;31m \u001b[0mb\u001b[0m\u001b[0;34m,\u001b[0m \u001b[0mg\u001b[0m\u001b[0;34m,\u001b[0m \u001b[0mr\u001b[0m \u001b[0;34m=\u001b[0m \u001b[0mimage\u001b[0m\u001b[0;34m[\u001b[0m\u001b[0mstart_point\u001b[0m\u001b[0;34m[\u001b[0m\u001b[0;36m1\u001b[0m\u001b[0;34m]\u001b[0m\u001b[0;34m,\u001b[0m \u001b[0mstart_point\u001b[0m\u001b[0;34m[\u001b[0m\u001b[0;36m0\u001b[0m\u001b[0;34m]\u001b[0m\u001b[0;34m]\u001b[0m\u001b[0;34m\u001b[0m\u001b[0;34m\u001b[0m\u001b[0m\n\u001b[0m\u001b[1;32m     14\u001b[0m \u001b[0;34m\u001b[0m\u001b[0m\n\u001b[1;32m     15\u001b[0m \u001b[0;31m# Create a mask based on color detection for the selected color\u001b[0m\u001b[0;34m\u001b[0m\u001b[0;34m\u001b[0m\u001b[0m\n",
            "\u001b[0;31mTypeError\u001b[0m: 'NoneType' object is not subscriptable"
          ]
        }
      ]
    },
    {
      "cell_type": "code",
      "source": [
        "import math\n",
        "\n",
        "def sort_points_by_proximity(points):\n",
        "    def calculate_distance(point1, point2):\n",
        "        return math.sqrt((point1[0] - point2[0])**2 + (point1[1] - point2[1])**2)\n",
        "\n",
        "    sorted_points = [points.pop(0)]\n",
        "\n",
        "    while points:\n",
        "        closest_point = min(points, key=lambda point: calculate_distance(sorted_points[-1], point))\n",
        "        sorted_points.append(points.pop(points.index(closest_point)))\n",
        "\n",
        "    return sorted_points"
      ],
      "metadata": {
        "id": "--y80ktdGwEn"
      },
      "execution_count": null,
      "outputs": []
    },
    {
      "cell_type": "code",
      "source": [
        "sorted_points = sort_points_by_proximity(points)\n",
        "print(sorted_points)"
      ],
      "metadata": {
        "colab": {
          "base_uri": "https://localhost:8080/"
        },
        "id": "MAmpqvXaGxRa",
        "outputId": "78c32e27-1801-4096-f939-3d9add65072d"
      },
      "execution_count": null,
      "outputs": [
        {
          "output_type": "stream",
          "name": "stdout",
          "text": [
            "[[187, 191], [190, 191], [200, 190], [201, 190], [209, 189], [216, 188], [222, 187], [227, 186], [232, 185], [248, 181], [251, 180], [257, 178], [260, 177], [265, 175], [279, 168], [285, 164], [295, 154], [299, 145], [298, 134], [294, 127], [287, 120], [283, 117], [280, 115], [264, 107], [256, 104], [253, 103], [250, 102], [196, 92], [183, 91], [179, 91], [150, 91], [146, 91], [134, 92], [133, 92], [124, 93], [116, 94], [110, 95], [104, 96], [99, 97], [83, 101], [68, 106], [61, 109], [53, 113], [48, 116], [31, 147], [36, 156], [42, 162], [54, 170], [56, 171], [58, 172], [60, 173], [67, 176], [85, 182], [89, 183], [93, 184], [97, 185], [102, 186], [113, 188], [114, 188], [120, 189], [121, 189], [129, 190], [130, 190], [140, 191], [142, 191]]\n"
          ]
        }
      ]
    },
    {
      "cell_type": "code",
      "source": [
        "import cv2\n",
        "import numpy as np\n",
        "\n",
        "# Load the image\n",
        "image = cv2.imread('planet2.png')\n",
        "gray = cv2.cvtColor(image, cv2.COLOR_BGR2GRAY)\n",
        "\n",
        "# Find contours\n",
        "contours, _ = cv2.findContours(gray, cv2.RETR_EXTERNAL, cv2.CHAIN_APPROX_SIMPLE)\n",
        "\n",
        "# Given point\n",
        "point = (625, 635)  # Replace with your desired point coordinates\n",
        "\n",
        "# Calculate distances from the point to each contour\n",
        "distances = [cv2.pointPolygonTest(contour, point, True) for contour in contours]\n",
        "\n",
        "# Find the nearest contour with a positive distance (inside the contour)\n",
        "nearest_contour_idx = np.argmax(distances)\n",
        "\n",
        "# Mark the given point in black\n",
        "cv2.circle(image, point, 5, (0, 0, 0), -1)\n",
        "\n",
        "# Draw the nearest contour on the image\n",
        "nearest_contour = contours[nearest_contour_idx]\n",
        "cv2.drawContours(image, [nearest_contour], -1, (0, 255, 0), 2)\n",
        "\n",
        "# Display the result\n",
        "cv2_imshow(image)\n"
      ],
      "metadata": {
        "colab": {
          "base_uri": "https://localhost:8080/",
          "height": 259
        },
        "id": "ucDQbigqMWGP",
        "outputId": "5a1622ad-9552-4707-ac27-72db1168a79c"
      },
      "execution_count": 3,
      "outputs": [
        {
          "output_type": "error",
          "ename": "error",
          "evalue": "ignored",
          "traceback": [
            "\u001b[0;31m---------------------------------------------------------------------------\u001b[0m",
            "\u001b[0;31merror\u001b[0m                                     Traceback (most recent call last)",
            "\u001b[0;32m<ipython-input-3-f6c7f127e4ae>\u001b[0m in \u001b[0;36m<cell line: 6>\u001b[0;34m()\u001b[0m\n\u001b[1;32m      4\u001b[0m \u001b[0;31m# Load the image\u001b[0m\u001b[0;34m\u001b[0m\u001b[0;34m\u001b[0m\u001b[0m\n\u001b[1;32m      5\u001b[0m \u001b[0mimage\u001b[0m \u001b[0;34m=\u001b[0m \u001b[0mcv2\u001b[0m\u001b[0;34m.\u001b[0m\u001b[0mimread\u001b[0m\u001b[0;34m(\u001b[0m\u001b[0;34m'planet2.png'\u001b[0m\u001b[0;34m)\u001b[0m\u001b[0;34m\u001b[0m\u001b[0;34m\u001b[0m\u001b[0m\n\u001b[0;32m----> 6\u001b[0;31m \u001b[0mgray\u001b[0m \u001b[0;34m=\u001b[0m \u001b[0mcv2\u001b[0m\u001b[0;34m.\u001b[0m\u001b[0mcvtColor\u001b[0m\u001b[0;34m(\u001b[0m\u001b[0mimage\u001b[0m\u001b[0;34m,\u001b[0m \u001b[0mcv2\u001b[0m\u001b[0;34m.\u001b[0m\u001b[0mCOLOR_BGR2GRAY\u001b[0m\u001b[0;34m)\u001b[0m\u001b[0;34m\u001b[0m\u001b[0;34m\u001b[0m\u001b[0m\n\u001b[0m\u001b[1;32m      7\u001b[0m \u001b[0;34m\u001b[0m\u001b[0m\n\u001b[1;32m      8\u001b[0m \u001b[0;31m# Find contours\u001b[0m\u001b[0;34m\u001b[0m\u001b[0;34m\u001b[0m\u001b[0m\n",
            "\u001b[0;31merror\u001b[0m: OpenCV(4.8.0) /io/opencv/modules/imgproc/src/color.cpp:182: error: (-215:Assertion failed) !_src.empty() in function 'cvtColor'\n"
          ]
        }
      ]
    }
  ]
}